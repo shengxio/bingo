{
 "cells": [
  {
   "cell_type": "code",
   "execution_count": 1,
   "metadata": {},
   "outputs": [],
   "source": [
    "import random\n",
    "\n",
    "def generate_unique_numbers(num_numbers):\n",
    "    numbers = list(range(1, 76))\n",
    "    random.shuffle(numbers)\n",
    "    return numbers[:num_numbers]\n",
    "\n",
    "def create_bingo_md():\n",
    "    content = [\"| B | I | N | G | O |\"]\n",
    "    content.append(\"| --- | --- | --- | --- | --- |\")\n",
    "\n",
    "    numbers = generate_unique_numbers(24)\n",
    "    numbers.insert(12,\"FREE\")\n",
    "\n",
    "    for i in range(5):\n",
    "        start = i*5\n",
    "        end = start +5\n",
    "        content.append(f\"|{' | '.join([str(n) for n in numbers[start:end]])} |\")\n",
    "    return content"
   ]
  },
  {
   "cell_type": "code",
   "execution_count": 3,
   "metadata": {},
   "outputs": [],
   "source": [
    "n = 1000\n",
    "for i in range(n):\n",
    "    with open(f\"sheets/bingo_{i}.md\",\"w\") as f:\n",
    "        f.write(\"\\n\".join(create_bingo_md()))"
   ]
  },
  {
   "cell_type": "code",
   "execution_count": 14,
   "metadata": {},
   "outputs": [],
   "source": [
    "def get_next_bingo():\n",
    "    return random.randint(1,75)"
   ]
  },
  {
   "cell_type": "code",
   "execution_count": 19,
   "metadata": {},
   "outputs": [
    {
     "data": {
      "text/plain": [
       "13"
      ]
     },
     "execution_count": 19,
     "metadata": {},
     "output_type": "execute_result"
    }
   ],
   "source": [
    "get_next_bingo()"
   ]
  },
  {
   "cell_type": "code",
   "execution_count": 1,
   "metadata": {},
   "outputs": [
    {
     "data": {
      "text/plain": [
       "['bingo_0.png',\n",
       " 'bingo_1.png',\n",
       " 'bingo_10.png',\n",
       " 'bingo_11.png',\n",
       " 'bingo_12.png',\n",
       " 'bingo_13.png',\n",
       " 'bingo_14.png',\n",
       " 'bingo_15.png',\n",
       " 'bingo_16.png',\n",
       " 'bingo_17.png',\n",
       " 'bingo_18.png',\n",
       " 'bingo_19.png',\n",
       " 'bingo_2.png',\n",
       " 'bingo_20.png',\n",
       " 'bingo_3.png',\n",
       " 'bingo_4.png',\n",
       " 'bingo_5.png',\n",
       " 'bingo_6.png',\n",
       " 'bingo_7.png',\n",
       " 'bingo_8.png',\n",
       " 'bingo_9.png']"
      ]
     },
     "execution_count": 1,
     "metadata": {},
     "output_type": "execute_result"
    }
   ],
   "source": [
    "# crop all images\n",
    "import os\n",
    "\n",
    "files = os.listdir(\"sheets\")\n",
    "images = [file for file in files if file.endswith(\".png\")]\n",
    "images"
   ]
  },
  {
   "cell_type": "code",
   "execution_count": 6,
   "metadata": {},
   "outputs": [
    {
     "name": "stdout",
     "output_type": "stream",
     "text": [
      "bingo_0.png\n",
      "bingo_1.png\n",
      "bingo_10.png\n",
      "bingo_11.png\n",
      "bingo_12.png\n",
      "bingo_13.png\n",
      "bingo_14.png\n",
      "bingo_15.png\n",
      "bingo_16.png\n",
      "bingo_17.png\n",
      "bingo_18.png\n",
      "bingo_19.png\n",
      "bingo_2.png\n",
      "bingo_20.png\n",
      "bingo_3.png\n",
      "bingo_4.png\n",
      "bingo_5.png\n",
      "bingo_6.png\n",
      "bingo_7.png\n",
      "bingo_8.png\n",
      "bingo_9.png\n"
     ]
    }
   ],
   "source": [
    "from PIL import Image\n",
    "\n",
    "for img_name in images:\n",
    "    print(img_name)\n",
    "    img = Image.open(f\"sheets/{img_name}\")\n",
    "    img_next = img.crop((0,0,235,220))\n",
    "    img_next.save(f\"sheets/{img_name}\",\"PNG\")"
   ]
  }
 ],
 "metadata": {
  "interpreter": {
   "hash": "e018b3108d584575e89e8b47c5e046eb8a7f05305ece41c774469f017d9ac464"
  },
  "kernelspec": {
   "display_name": "Python 3.10.2 64-bit",
   "language": "python",
   "name": "python3"
  },
  "language_info": {
   "codemirror_mode": {
    "name": "ipython",
    "version": 3
   },
   "file_extension": ".py",
   "mimetype": "text/x-python",
   "name": "python",
   "nbconvert_exporter": "python",
   "pygments_lexer": "ipython3",
   "version": "3.10.2"
  },
  "orig_nbformat": 4
 },
 "nbformat": 4,
 "nbformat_minor": 2
}
